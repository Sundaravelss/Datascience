{
 "cells": [
  {
   "cell_type": "code",
   "execution_count": 1,
   "metadata": {},
   "outputs": [],
   "source": [
    "import numpy as np"
   ]
  },
  {
   "cell_type": "code",
   "execution_count": 4,
   "metadata": {},
   "outputs": [],
   "source": [
    "def sigmoid(x,deriv=False):\n",
    "    if deriv==True:\n",
    "        return x*(1-x)\n",
    "    else:\n",
    "        return (1/1+(np.exp(-x)))"
   ]
  },
  {
   "cell_type": "code",
   "execution_count": 24,
   "metadata": {},
   "outputs": [
    {
     "name": "stdout",
     "output_type": "stream",
     "text": [
      "[[ 0.10159581]\n",
      " [ 0.41629565]\n",
      " [-0.41819052]]\n"
     ]
    },
    {
     "data": {
      "text/plain": [
       "0.033233642737083104"
      ]
     },
     "execution_count": 24,
     "metadata": {},
     "output_type": "execute_result"
    }
   ],
   "source": [
    "np.random.seed(3)\n",
    "\n",
    "from statistics import mean\n",
    "x=2*np.random.random((3,1))-1\n",
    "print(x)\n",
    "np.average(x)"
   ]
  },
  {
   "cell_type": "code",
   "execution_count": 40,
   "metadata": {},
   "outputs": [
    {
     "name": "stdout",
     "output_type": "stream",
     "text": [
      "[list([0, 0, 1]) list([0, 1, 1]) list([1, 0, 1]) list([1, 1])]\n"
     ]
    },
    {
     "data": {
      "text/plain": [
       "array([0, 0, 1, 1])"
      ]
     },
     "execution_count": 40,
     "metadata": {},
     "output_type": "execute_result"
    }
   ],
   "source": [
    "X=np.array([[0,0,1],[0,1,1],[1,0,1],[1,1,1]])\n",
    "\n",
    "Y=np.array([[0],[0],[1],[1]])\n",
    "print(X)\n",
    "y=np.array([0,0,1,1]).T\n",
    "np.shape(Y)\n",
    "np.shape(y)\n",
    "y"
   ]
  },
  {
   "cell_type": "code",
   "execution_count": 18,
   "metadata": {},
   "outputs": [],
   "source": [
    "np.random.seed(1)"
   ]
  },
  {
   "cell_type": "code",
   "execution_count": 48,
   "metadata": {},
   "outputs": [
    {
     "data": {
      "text/plain": [
       "(4, 3)"
      ]
     },
     "execution_count": 48,
     "metadata": {},
     "output_type": "execute_result"
    }
   ],
   "source": [
    "syn0=np.random.random((3,4)).T\n",
    "syn0.shape"
   ]
  },
  {
   "cell_type": "code",
   "execution_count": 45,
   "metadata": {},
   "outputs": [
    {
     "data": {
      "text/plain": [
       "(4, 1)"
      ]
     },
     "execution_count": 45,
     "metadata": {},
     "output_type": "execute_result"
    }
   ],
   "source": [
    "y = np.array([[0,0,1,1]]).T\n",
    "y.shape"
   ]
  },
  {
   "cell_type": "code",
   "execution_count": 52,
   "metadata": {},
   "outputs": [
    {
     "name": "stdout",
     "output_type": "stream",
     "text": [
      "[[0 0 1]\n",
      " [0 1 1]\n",
      " [1 0 1]\n",
      " [1 1 1]] (4, 3)\n",
      "[[0]\n",
      " [0]\n",
      " [1]\n",
      " [1]] (4, 1)\n"
     ]
    }
   ],
   "source": [
    "import numpy as np\n",
    "\n",
    "x=np.array([[0,0,1],[0,1,1],[1,0,1],[1,1,1]])\n",
    "print(x,x.shape)\n",
    "\n",
    "y=np.array([[0,0,1,1]]).T\n",
    "print(y,y.shape)"
   ]
  },
  {
   "cell_type": "code",
   "execution_count": 50,
   "metadata": {},
   "outputs": [],
   "source": [
    "#http://iamtrask.github.io/2015/07/12/basic-python-network/\n",
    "\n",
    "def sigmoid(x,deriv=False):\n",
    "    if deriv==True:\n",
    "        return x*(1-x)\n",
    "    else:\n",
    "        return 1/(1+np.exp(-x))"
   ]
  },
  {
   "cell_type": "code",
   "execution_count": 57,
   "metadata": {},
   "outputs": [
    {
     "name": "stdout",
     "output_type": "stream",
     "text": [
      "[[-0.16595599  0.44064899 -0.99977125 -0.39533485]\n",
      " [-0.70648822 -0.81532281 -0.62747958 -0.30887855]\n",
      " [-0.20646505  0.07763347 -0.16161097  0.370439  ]] -0.29154881789422876\n"
     ]
    }
   ],
   "source": [
    "np.random.seed(1)\n",
    "syn0=2*np.random.random((3,4))-1   #multiplying with 2 and minus 1 to get mean 0, and 3,4 shape to multiply with 4,3 x\n",
    "print(syn0,np.average(syn0))"
   ]
  },
  {
   "cell_type": "code",
   "execution_count": 58,
   "metadata": {},
   "outputs": [
    {
     "name": "stdout",
     "output_type": "stream",
     "text": [
      "[[-0.5910955 ]\n",
      " [ 0.75623487]\n",
      " [-0.94522481]\n",
      " [ 0.34093502]] -0.10978760525060438\n"
     ]
    }
   ],
   "source": [
    "syn1=2*np.random.random((4,1))-1  #shape(4,1) as it has to be multiplied with l1(4,4) and result in (4,1) output\n",
    "print(syn1,np.average(syn1))"
   ]
  },
  {
   "cell_type": "code",
   "execution_count": 63,
   "metadata": {},
   "outputs": [
    {
     "name": "stdout",
     "output_type": "stream",
     "text": [
      "[[ 0.44856632  0.51939863  0.45968497  0.59156505]\n",
      " [ 0.28639589  0.32350963  0.31236398  0.51538526]\n",
      " [-0.59204386 -0.37325394 -0.76158378 -0.50622364]\n",
      " [-0.74628752 -0.57371885 -0.85678767 -0.58267746]]\n",
      "[[ 0.44856632  0.51939863  0.45968497  0.59156505]\n",
      " [ 0.28639589  0.32350963  0.31236398  0.51538526]\n",
      " [-0.59204386 -0.37325394 -0.76158378 -0.50622364]\n",
      " [-0.74628752 -0.57371885 -0.85678767 -0.58267746]]\n",
      "[[ 0.44856632  0.51939863  0.45968497  0.59156505]\n",
      " [ 0.28639589  0.32350963  0.31236398  0.51538526]\n",
      " [-0.59204386 -0.37325394 -0.76158378 -0.50622364]\n",
      " [-0.74628752 -0.57371885 -0.85678767 -0.58267746]]\n",
      "[[ 0.44856632  0.51939863  0.45968497  0.59156505]\n",
      " [ 0.28639589  0.32350963  0.31236398  0.51538526]\n",
      " [-0.59204386 -0.37325394 -0.76158378 -0.50622364]\n",
      " [-0.74628752 -0.57371885 -0.85678767 -0.58267746]]\n",
      "[[ 0.44856632  0.51939863  0.45968497  0.59156505]\n",
      " [ 0.28639589  0.32350963  0.31236398  0.51538526]\n",
      " [-0.59204386 -0.37325394 -0.76158378 -0.50622364]\n",
      " [-0.74628752 -0.57371885 -0.85678767 -0.58267746]]\n",
      "[[ 0.44856632  0.51939863  0.45968497  0.59156505]\n",
      " [ 0.28639589  0.32350963  0.31236398  0.51538526]\n",
      " [-0.59204386 -0.37325394 -0.76158378 -0.50622364]\n",
      " [-0.74628752 -0.57371885 -0.85678767 -0.58267746]]\n",
      "[[ 0.44856632  0.51939863  0.45968497  0.59156505]\n",
      " [ 0.28639589  0.32350963  0.31236398  0.51538526]\n",
      " [-0.59204386 -0.37325394 -0.76158378 -0.50622364]\n",
      " [-0.74628752 -0.57371885 -0.85678767 -0.58267746]]\n",
      "[[ 0.44856632  0.51939863  0.45968497  0.59156505]\n",
      " [ 0.28639589  0.32350963  0.31236398  0.51538526]\n",
      " [-0.59204386 -0.37325394 -0.76158378 -0.50622364]\n",
      " [-0.74628752 -0.57371885 -0.85678767 -0.58267746]]\n",
      "[[ 0.44856632  0.51939863  0.45968497  0.59156505]\n",
      " [ 0.28639589  0.32350963  0.31236398  0.51538526]\n",
      " [-0.59204386 -0.37325394 -0.76158378 -0.50622364]\n",
      " [-0.74628752 -0.57371885 -0.85678767 -0.58267746]]\n",
      "[[ 0.44856632  0.51939863  0.45968497  0.59156505]\n",
      " [ 0.28639589  0.32350963  0.31236398  0.51538526]\n",
      " [-0.59204386 -0.37325394 -0.76158378 -0.50622364]\n",
      " [-0.74628752 -0.57371885 -0.85678767 -0.58267746]]\n"
     ]
    }
   ],
   "source": [
    "for i in range(10):\n",
    "    l0=x\n",
    "    l1=sigmoid(np.dot(l0,syn0))\n",
    "    #l2=sigmoid(np.dot(l1,syn1))\n",
    "    \n",
    "    error=l1-y\n",
    "    print(error)\n",
    "    \n",
    "    l1delta=error*sigmoid(l1,deriv=True)\n",
    "    #print(l1delta)"
   ]
  },
  {
   "cell_type": "code",
   "execution_count": 65,
   "metadata": {},
   "outputs": [
    {
     "data": {
      "text/plain": [
       "array([[-0.16595599],\n",
       "       [ 0.44064899],\n",
       "       [-0.99977125]])"
      ]
     },
     "execution_count": 65,
     "metadata": {},
     "output_type": "execute_result"
    }
   ],
   "source": [
    "np.random.seed(1)\n",
    "\n",
    "w0=2*(np.random.random((3,1)))-1\n",
    "w0"
   ]
  },
  {
   "cell_type": "code",
   "execution_count": 69,
   "metadata": {},
   "outputs": [
    {
     "name": "stdout",
     "output_type": "stream",
     "text": [
      "[[0.2689864 ]\n",
      " [0.36375058]\n",
      " [0.23762817]\n",
      " [0.3262757 ]]\n",
      "[[ 0.2689864 ]\n",
      " [ 0.36375058]\n",
      " [-0.76237183]\n",
      " [-0.6737243 ]]\n",
      "[[ 0.05289153]\n",
      " [ 0.08418501]\n",
      " [-0.13811206]\n",
      " [-0.14809799]]\n"
     ]
    }
   ],
   "source": [
    "\n",
    "\n",
    "l0=x\n",
    "\n",
    "l1=sigmoid(np.dot(l0,w0))\n",
    "\n",
    "print(l1)\n",
    "error=l1-y\n",
    "print(error)\n",
    "\n",
    "l1delta=error*sigmoid(l1,deriv=True)\n",
    "print(l1delta)\n",
    "\n",
    "w0+=np.dot(l1delta,)"
   ]
  },
  {
   "cell_type": "code",
   "execution_count": 102,
   "metadata": {},
   "outputs": [
    {
     "name": "stdout",
     "output_type": "stream",
     "text": [
      "[[0 0 1]\n",
      " [0 1 1]\n",
      " [1 0 1]\n",
      " [1 1 1]] (4, 3)\n"
     ]
    },
    {
     "data": {
      "text/plain": [
       "array([[0],\n",
       "       [0],\n",
       "       [1],\n",
       "       [1]])"
      ]
     },
     "execution_count": 102,
     "metadata": {},
     "output_type": "execute_result"
    }
   ],
   "source": [
    "x=np.array([[0,0,1],[0,1,1],[1,0,1],[1,1,1]])\n",
    "print(x,x.shape)\n",
    "\n",
    "y=np.array([[0,0,1,1]]).T\n",
    "y"
   ]
  },
  {
   "cell_type": "code",
   "execution_count": 103,
   "metadata": {},
   "outputs": [
    {
     "data": {
      "text/plain": [
       "array([[-0.16596],\n",
       "       [ 0.44065],\n",
       "       [-0.99977]])"
      ]
     },
     "execution_count": 103,
     "metadata": {},
     "output_type": "execute_result"
    }
   ],
   "source": [
    "np.random.seed(1)\n",
    "\n",
    "w0=2*np.random.random((3,1))-1\n",
    "w0"
   ]
  },
  {
   "cell_type": "code",
   "execution_count": 104,
   "metadata": {},
   "outputs": [],
   "source": [
    "def sigmoid(x,deriv=False):\n",
    "    if deriv==True:\n",
    "        return x*(1-x)\n",
    "    else:\n",
    "        return 1/(1+np.exp(-x))"
   ]
  },
  {
   "cell_type": "code",
   "execution_count": 105,
   "metadata": {},
   "outputs": [],
   "source": [
    "for i in range(10000):\n",
    "    l0=x\n",
    "    l1=sigmoid(np.dot(l0,w0))\n",
    "    \n",
    "    error=y-l1\n",
    "    \n",
    "    #print(\"Error is :\",error)\n",
    "    \n",
    "    l1delta=error*sigmoid(l1,deriv=True)\n",
    "    \n",
    "    w0+=np.dot(l0.T,l1delta)"
   ]
  },
  {
   "cell_type": "code",
   "execution_count": 106,
   "metadata": {},
   "outputs": [
    {
     "name": "stdout",
     "output_type": "stream",
     "text": [
      "[[0.00966]\n",
      " [0.00787]\n",
      " [0.99359]\n",
      " [0.99212]] [[0]\n",
      " [0]\n",
      " [1]\n",
      " [1]]\n"
     ]
    }
   ],
   "source": [
    "np.set_printoptions(precision=5,suppress=True)\n",
    "print(l1,y)"
   ]
  },
  {
   "cell_type": "code",
   "execution_count": null,
   "metadata": {},
   "outputs": [],
   "source": []
  },
  {
   "cell_type": "code",
   "execution_count": null,
   "metadata": {},
   "outputs": [],
   "source": []
  }
 ],
 "metadata": {
  "kernelspec": {
   "display_name": "Python 3",
   "language": "python",
   "name": "python3"
  },
  "language_info": {
   "codemirror_mode": {
    "name": "ipython",
    "version": 3
   },
   "file_extension": ".py",
   "mimetype": "text/x-python",
   "name": "python",
   "nbconvert_exporter": "python",
   "pygments_lexer": "ipython3",
   "version": "3.7.4"
  }
 },
 "nbformat": 4,
 "nbformat_minor": 4
}
